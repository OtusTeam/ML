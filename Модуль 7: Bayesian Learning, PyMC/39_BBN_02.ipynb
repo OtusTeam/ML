{
  "nbformat": 4,
  "nbformat_minor": 0,
  "metadata": {
    "colab": {
      "name": "39-BBN-02.ipynb",
      "provenance": [],
      "collapsed_sections": [],
      "authorship_tag": "ABX9TyPfbLqPgMKX3zQfVsb4Mkwl",
      "include_colab_link": true
    },
    "kernelspec": {
      "name": "python3",
      "display_name": "Python 3"
    },
    "language_info": {
      "name": "python"
    }
  },
  "cells": [
    {
      "cell_type": "markdown",
      "metadata": {
        "id": "view-in-github",
        "colab_type": "text"
      },
      "source": [
        "<a href=\"https://colab.research.google.com/github/OtusTeam/Machine-Learning/blob/main/%D0%9C%D0%BE%D0%B4%D1%83%D0%BB%D1%8C%207%3A%20Bayesian%20Learning%2C%20PyMC/39_BBN_02.ipynb\" target=\"_parent\"><img src=\"https://colab.research.google.com/assets/colab-badge.svg\" alt=\"Open In Colab\"/></a>"
      ]
    },
    {
      "cell_type": "code",
      "metadata": {
        "colab": {
          "base_uri": "https://localhost:8080/"
        },
        "id": "fbEsQsFt-S0F",
        "outputId": "5ac6efd4-e10f-4a91-c445-4c92d7ffef74"
      },
      "source": [
        "!pip install pybbn\n",
        "!sudo apt-get install graphviz graphviz-dev\n",
        "!pip install pygraphviz"
      ],
      "execution_count": null,
      "outputs": [
        {
          "output_type": "stream",
          "text": [
            "Requirement already satisfied: pybbn in /usr/local/lib/python3.7/dist-packages (3.2.1)\n",
            "Requirement already satisfied: pandas in /usr/local/lib/python3.7/dist-packages (from pybbn) (1.1.5)\n",
            "Requirement already satisfied: numpy in /usr/local/lib/python3.7/dist-packages (from pybbn) (1.19.5)\n",
            "Requirement already satisfied: scipy in /usr/local/lib/python3.7/dist-packages (from pybbn) (1.4.1)\n",
            "Requirement already satisfied: networkx in /usr/local/lib/python3.7/dist-packages (from pybbn) (2.5.1)\n",
            "Requirement already satisfied: python-dateutil>=2.7.3 in /usr/local/lib/python3.7/dist-packages (from pandas->pybbn) (2.8.1)\n",
            "Requirement already satisfied: pytz>=2017.2 in /usr/local/lib/python3.7/dist-packages (from pandas->pybbn) (2018.9)\n",
            "Requirement already satisfied: decorator<5,>=4.3 in /usr/local/lib/python3.7/dist-packages (from networkx->pybbn) (4.4.2)\n",
            "Requirement already satisfied: six>=1.5 in /usr/local/lib/python3.7/dist-packages (from python-dateutil>=2.7.3->pandas->pybbn) (1.15.0)\n",
            "Reading package lists... Done\n",
            "Building dependency tree       \n",
            "Reading state information... Done\n",
            "Note, selecting 'libgraphviz-dev' instead of 'graphviz-dev'\n",
            "graphviz is already the newest version (2.40.1-2).\n",
            "The following package was automatically installed and is no longer required:\n",
            "  libnvidia-common-460\n",
            "Use 'sudo apt autoremove' to remove it.\n",
            "The following additional packages will be installed:\n",
            "  libgail-common libgail18 libgtk2.0-0 libgtk2.0-bin libgtk2.0-common\n",
            "  libgvc6-plugins-gtk libxdot4\n",
            "Suggested packages:\n",
            "  gvfs\n",
            "The following NEW packages will be installed:\n",
            "  libgail-common libgail18 libgraphviz-dev libgtk2.0-0 libgtk2.0-bin\n",
            "  libgtk2.0-common libgvc6-plugins-gtk libxdot4\n",
            "0 upgraded, 8 newly installed, 0 to remove and 34 not upgraded.\n",
            "Need to get 2,120 kB of archives.\n",
            "After this operation, 7,128 kB of additional disk space will be used.\n",
            "Get:1 http://archive.ubuntu.com/ubuntu bionic/main amd64 libgtk2.0-common all 2.24.32-1ubuntu1 [125 kB]\n",
            "Get:2 http://archive.ubuntu.com/ubuntu bionic/main amd64 libgtk2.0-0 amd64 2.24.32-1ubuntu1 [1,769 kB]\n",
            "Get:3 http://archive.ubuntu.com/ubuntu bionic/main amd64 libgail18 amd64 2.24.32-1ubuntu1 [14.2 kB]\n",
            "Get:4 http://archive.ubuntu.com/ubuntu bionic/main amd64 libgail-common amd64 2.24.32-1ubuntu1 [112 kB]\n",
            "Get:5 http://archive.ubuntu.com/ubuntu bionic/universe amd64 libxdot4 amd64 2.40.1-2 [15.7 kB]\n",
            "Get:6 http://archive.ubuntu.com/ubuntu bionic/universe amd64 libgvc6-plugins-gtk amd64 2.40.1-2 [18.2 kB]\n",
            "Get:7 http://archive.ubuntu.com/ubuntu bionic/universe amd64 libgraphviz-dev amd64 2.40.1-2 [57.3 kB]\n",
            "Get:8 http://archive.ubuntu.com/ubuntu bionic/main amd64 libgtk2.0-bin amd64 2.24.32-1ubuntu1 [7,536 B]\n",
            "Fetched 2,120 kB in 1s (2,584 kB/s)\n",
            "debconf: unable to initialize frontend: Dialog\n",
            "debconf: (No usable dialog-like program is installed, so the dialog based frontend cannot be used. at /usr/share/perl5/Debconf/FrontEnd/Dialog.pm line 76, <> line 8.)\n",
            "debconf: falling back to frontend: Readline\n",
            "debconf: unable to initialize frontend: Readline\n",
            "debconf: (This frontend requires a controlling tty.)\n",
            "debconf: falling back to frontend: Teletype\n",
            "dpkg-preconfigure: unable to re-open stdin: \n",
            "Selecting previously unselected package libgtk2.0-common.\n",
            "(Reading database ... 160706 files and directories currently installed.)\n",
            "Preparing to unpack .../0-libgtk2.0-common_2.24.32-1ubuntu1_all.deb ...\n",
            "Unpacking libgtk2.0-common (2.24.32-1ubuntu1) ...\n",
            "Selecting previously unselected package libgtk2.0-0:amd64.\n",
            "Preparing to unpack .../1-libgtk2.0-0_2.24.32-1ubuntu1_amd64.deb ...\n",
            "Unpacking libgtk2.0-0:amd64 (2.24.32-1ubuntu1) ...\n",
            "Selecting previously unselected package libgail18:amd64.\n",
            "Preparing to unpack .../2-libgail18_2.24.32-1ubuntu1_amd64.deb ...\n",
            "Unpacking libgail18:amd64 (2.24.32-1ubuntu1) ...\n",
            "Selecting previously unselected package libgail-common:amd64.\n",
            "Preparing to unpack .../3-libgail-common_2.24.32-1ubuntu1_amd64.deb ...\n",
            "Unpacking libgail-common:amd64 (2.24.32-1ubuntu1) ...\n",
            "Selecting previously unselected package libxdot4.\n",
            "Preparing to unpack .../4-libxdot4_2.40.1-2_amd64.deb ...\n",
            "Unpacking libxdot4 (2.40.1-2) ...\n",
            "Selecting previously unselected package libgvc6-plugins-gtk.\n",
            "Preparing to unpack .../5-libgvc6-plugins-gtk_2.40.1-2_amd64.deb ...\n",
            "Unpacking libgvc6-plugins-gtk (2.40.1-2) ...\n",
            "Selecting previously unselected package libgraphviz-dev.\n",
            "Preparing to unpack .../6-libgraphviz-dev_2.40.1-2_amd64.deb ...\n",
            "Unpacking libgraphviz-dev (2.40.1-2) ...\n",
            "Selecting previously unselected package libgtk2.0-bin.\n",
            "Preparing to unpack .../7-libgtk2.0-bin_2.24.32-1ubuntu1_amd64.deb ...\n",
            "Unpacking libgtk2.0-bin (2.24.32-1ubuntu1) ...\n",
            "Setting up libgtk2.0-common (2.24.32-1ubuntu1) ...\n",
            "Setting up libxdot4 (2.40.1-2) ...\n",
            "Setting up libgtk2.0-0:amd64 (2.24.32-1ubuntu1) ...\n",
            "Setting up libgail18:amd64 (2.24.32-1ubuntu1) ...\n",
            "Setting up libgail-common:amd64 (2.24.32-1ubuntu1) ...\n",
            "Setting up libgvc6-plugins-gtk (2.40.1-2) ...\n",
            "Setting up libgraphviz-dev (2.40.1-2) ...\n",
            "Setting up libgtk2.0-bin (2.24.32-1ubuntu1) ...\n",
            "Processing triggers for man-db (2.8.3-2ubuntu0.1) ...\n",
            "Processing triggers for libc-bin (2.27-3ubuntu1.2) ...\n",
            "/sbin/ldconfig.real: /usr/local/lib/python3.7/dist-packages/ideep4py/lib/libmkldnn.so.0 is not a symbolic link\n",
            "\n",
            "Collecting pygraphviz\n",
            "\u001b[?25l  Downloading https://files.pythonhosted.org/packages/3a/d6/2c56f09ee83dbebb62c40487e4c972135661b9984fec9b30b77fb497090c/pygraphviz-1.7.zip (118kB)\n",
            "\u001b[K     |████████████████████████████████| 122kB 26.9MB/s \n",
            "\u001b[?25hBuilding wheels for collected packages: pygraphviz\n",
            "  Building wheel for pygraphviz (setup.py) ... \u001b[?25l\u001b[?25hdone\n",
            "  Created wheel for pygraphviz: filename=pygraphviz-1.7-cp37-cp37m-linux_x86_64.whl size=166134 sha256=9d47ca5ff301b019bc1edde39fbcfa0b37fb604b5d5ebda0c691e62771098790\n",
            "  Stored in directory: /root/.cache/pip/wheels/32/59/00/14934a4292c4359eeabcdbf90f33d309b55d0f1be8a1262523\n",
            "Successfully built pygraphviz\n",
            "Installing collected packages: pygraphviz\n",
            "Successfully installed pygraphviz-1.7\n"
          ],
          "name": "stdout"
        }
      ]
    },
    {
      "cell_type": "code",
      "metadata": {
        "id": "kc-hXjvV9ytr"
      },
      "source": [
        "from pybbn.graph.dag import Bbn\n",
        "from pybbn.graph.edge import Edge, EdgeType\n",
        "from pybbn.graph.jointree import EvidenceBuilder\n",
        "from pybbn.graph.node import BbnNode\n",
        "from pybbn.graph.variable import Variable\n",
        "from pybbn.pptc.inferencecontroller import InferenceController"
      ],
      "execution_count": null,
      "outputs": []
    },
    {
      "cell_type": "code",
      "metadata": {
        "id": "d2v-uti6-PWZ"
      },
      "source": [
        "# create the nodes\n",
        "season = BbnNode(Variable(0, 'season', ['winter', 'summer']), [0.5, 0.5])\n",
        "atmos_pres = BbnNode(Variable(1, 'atmos_press', ['high', 'low']), [0.5, 0.5])\n",
        "allergies = BbnNode(Variable(2, 'allergies', ['allergic', 'non_alergic']), [0.7, 0.3, 0.2, 0.8])\n",
        "rain = BbnNode(Variable(3, 'rain', ['rainy', 'sunny']), [0.9, 0.1, 0.7, 0.3, 0.3, 0.7, 0.1, 0.9])\n",
        "grass = BbnNode(Variable(4, 'grass', ['grass', 'no_grass']), [0.8, 0.2, 0.3, 0.7])\n",
        "umbrellas = BbnNode(Variable(5, 'umbrellas', ['on', 'off']), [0.99, 0.01, 0.80, 0.20, 0.20, 0.80, 0.01, 0.99])\n",
        "dog_bark = BbnNode(Variable(6, 'dog_bark', ['bark', 'not_bark']), [0.8, 0.2, 0.1, 0.9])\n",
        "cat_mood = BbnNode(Variable(7, 'cat_mood', ['good', 'bad']), [0.05, 0.95, 0.95, 0.05])\n",
        "cat_hide = BbnNode(Variable(8, 'cat_hide', ['hide', 'show']), [0.20, 0.80, 0.95, 0.05, 0.95, 0.05, 0.70, 0.30])\n",
        "\n",
        "bbn = Bbn() \\\n",
        "    .add_node(season) \\\n",
        "    .add_node(atmos_pres) \\\n",
        "    .add_node(allergies) \\\n",
        "    .add_node(rain) \\\n",
        "    .add_node(grass) \\\n",
        "    .add_node(umbrellas) \\\n",
        "    .add_node(dog_bark) \\\n",
        "    .add_node(cat_mood) \\\n",
        "    .add_node(cat_hide) \\\n",
        "    .add_edge(Edge(season, allergies, EdgeType.DIRECTED)) \\\n",
        "    .add_edge(Edge(season, umbrellas, EdgeType.DIRECTED)) \\\n",
        "    .add_edge(Edge(season, rain, EdgeType.DIRECTED)) \\\n",
        "    .add_edge(Edge(atmos_pres, rain, EdgeType.DIRECTED)) \\\n",
        "    .add_edge(Edge(rain, grass, EdgeType.DIRECTED)) \\\n",
        "    .add_edge(Edge(rain, umbrellas, EdgeType.DIRECTED)) \\\n",
        "    .add_edge(Edge(rain, dog_bark, EdgeType.DIRECTED)) \\\n",
        "    .add_edge(Edge(rain, cat_mood, EdgeType.DIRECTED)) \\\n",
        "    .add_edge(Edge(dog_bark, cat_hide, EdgeType.DIRECTED)) \\\n",
        "    .add_edge(Edge(cat_mood, cat_hide, EdgeType.DIRECTED))"
      ],
      "execution_count": null,
      "outputs": []
    },
    {
      "cell_type": "code",
      "metadata": {
        "colab": {
          "base_uri": "https://localhost:8080/",
          "height": 591
        },
        "id": "Ku1U4CnrJS6A",
        "outputId": "6a58f8ff-6aa1-45ed-eb9e-81c4ead420fa"
      },
      "source": [
        "%matplotlib inline\n",
        "from pybbn.generator.bbngenerator import convert_for_drawing\n",
        "import matplotlib.pyplot as plt\n",
        "import networkx as nx\n",
        "import warnings\n",
        "\n",
        "with warnings.catch_warnings():\n",
        "    warnings.simplefilter('ignore')\n",
        "    \n",
        "    graph = convert_for_drawing(bbn)\n",
        "    pos = nx.nx_agraph.graphviz_layout(graph, prog='neato')\n",
        "\n",
        "    plt.figure(figsize=(20, 10))\n",
        "    plt.subplot(121) \n",
        "    labels = dict([(k, node.variable.name) for k, node in bbn.nodes.items()])\n",
        "    nx.draw(graph, pos=pos, with_labels=True, labels=labels)\n",
        "    plt.title('BBN DAG')"
      ],
      "execution_count": null,
      "outputs": [
        {
          "output_type": "display_data",
          "data": {
            "image/png": "[encoded data removed]",
            "text/plain": [
              "<Figure size 1440x720 with 1 Axes>"
            ]
          },
          "metadata": {
            "tags": []
          }
        }
      ]
    },
    {
      "cell_type": "code",
      "metadata": {
        "colab": {
          "base_uri": "https://localhost:8080/"
        },
        "id": "XMTXQyYuJWeu",
        "outputId": "c948f413-bb93-4588-d431-c3db735cbfd0"
      },
      "source": [
        "# convert the BBN to a join tree\n",
        "join_tree = InferenceController.apply(bbn)\n",
        "\n",
        "# insert an observation evidence\n",
        "ev = EvidenceBuilder() \\\n",
        "    .with_node(join_tree.get_bbn_node_by_name('season')) \\\n",
        "    .with_evidence('winter', 1.0) \\\n",
        "    .build()\n",
        "\n",
        "join_tree.set_observation(ev)\n",
        "\n",
        "# print the marginal probabilities\n",
        "for node in join_tree.get_bbn_nodes():\n",
        "    potential = join_tree.get_bbn_potential(node)\n",
        "    print(node)\n",
        "    print(potential)\n",
        "    print('--------------------->')"
      ],
      "execution_count": null,
      "outputs": [
        {
          "output_type": "stream",
          "text": [
            "0|season|winter,summer\n",
            "0=winter|1.00000\n",
            "0=summer|0.00000\n",
            "--------------------->\n",
            "2|allergies|allergic,non_alergic\n",
            "2=allergic|0.70000\n",
            "2=non_alergic|0.30000\n",
            "--------------------->\n",
            "3|rain|rainy,sunny\n",
            "3=rainy|0.80000\n",
            "3=sunny|0.20000\n",
            "--------------------->\n",
            "4|grass|grass,no_grass\n",
            "4=grass|0.70000\n",
            "4=no_grass|0.30000\n",
            "--------------------->\n",
            "1|atmos_press|high,low\n",
            "1=high|0.50000\n",
            "1=low|0.50000\n",
            "--------------------->\n",
            "5|umbrellas|on,off\n",
            "5=on|0.95200\n",
            "5=off|0.04800\n",
            "--------------------->\n",
            "6|dog_bark|bark,not_bark\n",
            "6=bark|0.66000\n",
            "6=not_bark|0.34000\n",
            "--------------------->\n",
            "7|cat_mood|good,bad\n",
            "7=good|0.23000\n",
            "7=bad|0.77000\n",
            "--------------------->\n",
            "8|cat_hide|hide,show\n",
            "8=hide|0.87150\n",
            "8=show|0.12850\n",
            "--------------------->\n"
          ],
          "name": "stdout"
        }
      ]
    },
    {
      "cell_type": "code",
      "metadata": {
        "id": "w1rxkUk6KE-W"
      },
      "source": [
        ""
      ],
      "execution_count": null,
      "outputs": []
    }
  ]
}